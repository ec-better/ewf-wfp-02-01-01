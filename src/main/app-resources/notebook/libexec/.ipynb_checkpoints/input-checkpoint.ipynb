{
 "cells": [
  {
   "cell_type": "markdown",
   "metadata": {
    "slideshow": {
     "slide_type": "skip"
    }
   },
   "source": [
    "## ewf-wfp-02-01-01 - Smoothed Gap-Filled Land Surface Temperature Time Series"
   ]
  },
  {
   "cell_type": "markdown",
   "metadata": {},
   "source": [
    "Smoothed Gap-Filled Land Surface Temperature Time Series"
   ]
  },
  {
   "cell_type": "markdown",
   "metadata": {},
   "source": [
    "---"
   ]
  },
  {
   "cell_type": "markdown",
   "metadata": {},
   "source": [
    "### <a name=\"service\">Service definition"
   ]
  },
  {
   "cell_type": "code",
   "execution_count": 1,
   "metadata": {
    "collapsed": true
   },
   "outputs": [],
   "source": [
    "service = dict([('title', 'Smoothed Gap-Filled Land Surface Temperature Time Series'),\n",
    "                ('abstract', 'Smoothed Gap-Filled Land Surface Temperature Time Series'),\n",
    "                ('id', 'ewf-wfp-02-01-01')])"
   ]
  },
  {
   "cell_type": "markdown",
   "metadata": {},
   "source": [
    "### <a name=\"runtime\">Runtime parameter definition"
   ]
  },
  {
   "cell_type": "markdown",
   "metadata": {},
   "source": [
    "**Input identifiers**\n",
    "\n",
    "This is the MDOIS stack of products' identifiers"
   ]
  },
  {
   "cell_type": "code",
   "execution_count": 2,
   "metadata": {
    "collapsed": true
   },
   "outputs": [],
   "source": [
    "# 2015\n",
    "input_identifiers = ('MOD11C2.A2015001.006.2016223171153', 'MOD11C2.A2015009.006.2016223171154', 'MOD11C2.A2015017.006.2016223171154', 'MOD11C2.A2015025.006.2016223171154', 'MOD11C2.A2015033.006.2016223171154')\n",
    "\n",
    "#input_identifiers = ('MOD11C2.A2015001.006.2016223171153','MOD11C2.A2015009.006.2016223171154','MOD11C2.A2015017.006.2016223171154','MOD11C2.A2015025.006.2016223171154','MOD11C2.A2015033.006.2016223171154','MOD11C2.A2015041.006.2016223171218','MOD11C2.A2015049.006.2016223171218','MOD11C2.A2015057.006.2016223171220','MOD11C2.A2015065.006.2016223171152','MOD11C2.A2015073.006.2016223171152','MOD11C2.A2015081.006.2016223171158','MOD11C2.A2015089.006.2016223171156')\n",
    "\n",
    "# 2016\n",
    "#input_identifiers = ('MOD11C2.A2016001.006.2016234032340', 'MOD11C2.A2016009.006.2016234032341', 'MOD11C2.A2016017.006.2016234032342', 'MOD11C2.A2016025.006.2016234032341', 'MOD11C2.A2016033.006.2016235185021')\n",
    "\n",
    "# 2017\n",
    "#input_identifiers = ( 'MOD11C2.A2017001.006.2017013160908', 'MOD11C2.A2017009.006.2017020191355', 'MOD11C2.A2017017.006.2017025093208', 'MOD11C2.A2017025.006.2017033125003', 'MOD11C2.A2017033.006.2017041092627')\n",
    "\n",
    "## 2018\n",
    "#input_identifiers = ( 'MOD11C2.A2018001.006.2018011143504', 'MOD11C2.A2018009.006.2018017084533', 'MOD11C2.A2018017.006.2018025152434', 'MOD11C2.A2018025.006.2018033090239', 'MOD11C2.A2018033.006.2018041083108')\n",
    "\n",
    "#input_identifiers"
   ]
  },
  {
   "cell_type": "markdown",
   "metadata": {},
   "source": [
    "**Input references**\n",
    "\n",
    "This is the MODIS stack catalogue references"
   ]
  },
  {
   "cell_type": "code",
   "execution_count": 3,
   "metadata": {
    "collapsed": false,
    "slideshow": {
     "slide_type": "subslide"
    }
   },
   "outputs": [],
   "source": [
    "input_references = tuple(['https://catalog.terradue.com/modis/search?uid={0}'.format(pid) for pid in input_identifiers])"
   ]
  },
  {
   "cell_type": "markdown",
   "metadata": {
    "slideshow": {
     "slide_type": "slide"
    }
   },
   "source": [
    "**Data path**\n",
    "\n",
    "This path defines where the data is staged-in. "
   ]
  },
  {
   "cell_type": "code",
   "execution_count": 4,
   "metadata": {
    "collapsed": true
   },
   "outputs": [],
   "source": [
    "data_path = '/workspace/data/modis'"
   ]
  },
  {
   "cell_type": "markdown",
   "metadata": {},
   "source": [
    "#### Aux folders"
   ]
  },
  {
   "cell_type": "code",
   "execution_count": 5,
   "metadata": {},
   "outputs": [],
   "source": [
    "output_folder = ''"
   ]
  },
  {
   "cell_type": "code",
   "execution_count": 6,
   "metadata": {},
   "outputs": [],
   "source": [
    "temp_folder = 'temp'"
   ]
  },
  {
   "cell_type": "markdown",
   "metadata": {},
   "source": [
    "#### Import Modules"
   ]
  },
  {
   "cell_type": "code",
   "execution_count": 7,
   "metadata": {},
   "outputs": [],
   "source": [
    "import os\n",
    "import shutil\n",
    "import datetime\n",
    "import sys\n",
    "\n",
    "#from datetime import datetime, timedelta\n",
    "\n",
    "try:\n",
    "    import gdal\n",
    "except ImportError:\n",
    "    from osgeo import gdal\n",
    "import glob\n",
    "\n",
    "import h5py\n",
    "\n",
    "# whittaker engine\n",
    "\n",
    "#sys.path.append('/application/notebook/libexec/')\n",
    "#sys.path.append(os.getcwd())\n",
    "\n",
    "#import modape\n",
    "#from modape.modis import ModisRawH5, ModisSmoothH5, ModisMosaic\n",
    "\n",
    "sys.path.append(os.getcwd())\n",
    "sys.path.append('/application/notebook/libexec/')\n",
    "from modis import ModisRawH5, ModisSmoothH5, ModisMosaic"
   ]
  },
  {
   "cell_type": "markdown",
   "metadata": {},
   "source": [
    "#### Auxiliary methods"
   ]
  },
  {
   "cell_type": "code",
   "execution_count": 41,
   "metadata": {},
   "outputs": [],
   "source": [
    "# remove contents of a given folder\n",
    "# used to clean a temporary folder\n",
    "def rm_cfolder(folder):\n",
    "    #folder = '/path/to/folder'\n",
    "    for the_file in os.listdir(folder):\n",
    "        file_path = os.path.join(folder, the_file)\n",
    "        try:\n",
    "            if os.path.isfile(file_path):\n",
    "                os.unlink(file_path)\n",
    "            elif os.path.isdir(file_path): shutil.rmtree(file_path)\n",
    "        except Exception as e:\n",
    "            print(e)\n",
    "\n",
    "\n",
    "\n",
    "def get_formatted_date(datetime_str):\n",
    "    date = datetime.datetime.strftime(datetime_str, '%Y-%m-%dT%H:%M:%SZ')\n",
    "    return date\n",
    "\n",
    "\n",
    "def write_properties_file(output_name, first_date, last_date, region_of_interest):\n",
    "    \n",
    "    title = 'Output %s' % output_name\n",
    "    \n",
    "    \n",
    "    first_date = datetime.datetime(year=first_date.year, month=first_date.month, day=first_date.day)\n",
    "    first_date = first_date + datetime.timedelta(days=0, hours=0, minutes=0, seconds=0)\n",
    "    first_date = get_formatted_date(first_date)\n",
    "    \n",
    "    last_date = datetime.datetime(year=last_date.year, month=last_date.month, day=last_date.day)\n",
    "    last_date = last_date + datetime.timedelta(days=0, hours=23, minutes=59, seconds=59)\n",
    "    last_date = get_formatted_date(last_date)\n",
    "    \n",
    "\n",
    "    \n",
    "    \n",
    "    with open(output_name + '.properties', 'wb') as file:\n",
    "        file.write('title=%s\\n' % title)\n",
    "        file.write('date=%s/%s\\n' % (first_date, last_date))\n",
    "        file.write('geometry=%s' % (region_of_interest))"
   ]
  },
  {
   "cell_type": "markdown",
   "metadata": {},
   "source": [
    "#### Auxiliary folders"
   ]
  },
  {
   "cell_type": "code",
   "execution_count": 9,
   "metadata": {},
   "outputs": [],
   "source": [
    "#Create folders\n",
    "#if not os.path.isdir(data_path):\n",
    "#    os.mkdir(data_path)\n",
    "\n",
    "if len(output_folder) > 0:\n",
    "    if not os.path.isdir(output_folder):\n",
    "        os.mkdir(output_folder)\n",
    "\n",
    "if not os.path.isdir(temp_folder):\n",
    "    os.mkdir(temp_folder)"
   ]
  },
  {
   "cell_type": "markdown",
   "metadata": {},
   "source": [
    "#### Collect raw MODIS data into HDF5 file"
   ]
  },
  {
   "cell_type": "code",
   "execution_count": 10,
   "metadata": {},
   "outputs": [],
   "source": [
    "modis_abs_paths = [os.path.join(data_path, in_id + '.hdf' ) for in_id in input_identifiers]\n",
    "\n",
    "\n",
    "try:\n",
    "    rh5 = ModisRawH5(modis_abs_paths,\n",
    "                     vam_product_code='LTD',\n",
    "                     targetdir=temp_folder,\n",
    "                     interleave=False)\n",
    "    if not rh5.exists:\n",
    "        rh5.create(compression='gzip',\n",
    "                   chunk=None)\n",
    "    rh5.update()\n",
    "    \n",
    "except Exception as e: # pylint: disable=unused-variable\n",
    "    #print('\\nError processing product {}, product code {}. \\n\\n Traceback:\\n'.format(rh5.product, vam_product_code))\n",
    "    print('something went wrong!!')\n",
    "    pass\n",
    "\n",
    "\n",
    "#modis_abs_paths"
   ]
  },
  {
   "cell_type": "code",
   "execution_count": 11,
   "metadata": {},
   "outputs": [
    {
     "data": {
      "text/plain": [
       "['/workspace/data/modis/MOD11C2.A2015001.006.2016223171153.hdf',\n",
       " '/workspace/data/modis/MOD11C2.A2015009.006.2016223171154.hdf',\n",
       " '/workspace/data/modis/MOD11C2.A2015017.006.2016223171154.hdf',\n",
       " '/workspace/data/modis/MOD11C2.A2015025.006.2016223171154.hdf',\n",
       " '/workspace/data/modis/MOD11C2.A2015033.006.2016223171154.hdf']"
      ]
     },
     "execution_count": 11,
     "metadata": {},
     "output_type": "execute_result"
    }
   ],
   "source": [
    "# checks file name\n",
    "#os.listdir(temp_folder + '/LTD')\n",
    "\n",
    "modis_abs_paths"
   ]
  },
  {
   "cell_type": "markdown",
   "metadata": {},
   "source": [
    "#### Smooth raw MODIS HDF5 file"
   ]
  },
  {
   "cell_type": "code",
   "execution_count": 12,
   "metadata": {},
   "outputs": [],
   "source": [
    "\n",
    "h5file = os.path.join(temp_folder, 'LTD', os.listdir(temp_folder + '/LTD')[0] )\n",
    "\n",
    "#h5 = '/workspace/data/modis/rawh5/LTD/MOD11C2.006.TDT.h5'\n",
    "\n",
    "#if not os.path.isfile(h5):\n",
    "#    print('Raw HDF5 {} not found! Please check path.'.format(h5))\n",
    "\n",
    "smt_h5 = ModisSmoothH5(rawfile=h5file,\n",
    "                       #startdate='2017001', # Startdate for temporal interpolation (format YYYY-MM-DD or YYYYJJJ)\n",
    "                       tempint=10,\n",
    "                       targetdir=temp_folder,\n",
    "                       nworkers=2)\n",
    "\n",
    "if not smt_h5.exists:\n",
    "    smt_h5.create()\n",
    "\n",
    "smt_h5.ws2d_sgrid()"
   ]
  },
  {
   "cell_type": "markdown",
   "metadata": {},
   "source": [
    "#### Convert HDF5 to TIFF"
   ]
  },
  {
   "cell_type": "code",
   "execution_count": 13,
   "metadata": {},
   "outputs": [
    {
     "name": "stdout",
     "output_type": "stream",
     "text": [
      "Processing file modis_lst_10d_2015-01-05.tif\n",
      "Processing file modis_lst_10d_2015-01-15.tif\n",
      "Processing file modis_lst_10d_2015-01-25.tif\n",
      "Processing file modis_lst_10d_2015-02-04.tif\n"
     ]
    },
    {
     "data": {
      "text/plain": [
       "['modis_lst_10d_2015-01-05.tif',\n",
       " 'modis_lst_10d_2015-01-15.tif',\n",
       " 'modis_lst_10d_2015-01-25.tif',\n",
       " 'modis_lst_10d_2015-02-04.tif']"
      ]
     },
     "execution_count": 13,
     "metadata": {},
     "output_type": "execute_result"
    }
   ],
   "source": [
    "\n",
    "h5_filepath = glob.glob(temp_folder + '/' + '*.TDT.h5')[0]\n",
    "    \n",
    "\n",
    "\n",
    "with h5py.File(h5_filepath, 'r') as h5f:\n",
    "    dset = h5f.get('data')\n",
    "    dates = h5f.get('dates')\n",
    "    dim = dset.shape\n",
    "    startdate = dates[0].decode()\n",
    "    enddate = dates[-1].decode()\n",
    "    temporalresolution = dset.attrs['temporalresolution']\n",
    "    resolution = dset.attrs['resolution']\n",
    "    nodata_value = dset.attrs['nodata']\n",
    "    processing_timestamp = dset.attrs['processingtimestamp']\n",
    "    ncols = dset.attrs['RasterXSize'].item()\n",
    "    nrows = dset.attrs['RasterYSize'].item()\n",
    "\n",
    "\n",
    "\n",
    "h5files_select_vpc = [h5_filepath]\n",
    "\n",
    "mosaic = ModisMosaic(files=h5files_select_vpc,\n",
    "                     datemin=datetime.date(2000, 1, 1).strftime('%Y%m'),\n",
    "                     datemax=datetime.date.today().strftime('%Y%m'),\n",
    "                     global_flag=True)\n",
    "dset = 'data'\n",
    "\n",
    "\n",
    "filenames = []\n",
    "file_dates = []\n",
    "for ix in mosaic.temp_index:\n",
    "    \n",
    "    datetime_object =  datetime.datetime.strptime(str(int(startdate) + 10*ix), '%Y%j')\n",
    "    \n",
    "    \n",
    "    #filename = output_folder + '/' + 'modis_lst_10d_' + str(datetime_object.date()) + '.tif'\n",
    "    \n",
    "    filename = os.path.join(output_folder, 'modis_lst_10d_' + str(datetime_object.date()) + '.tif' )\n",
    "    \n",
    "    filenames.append(filename)\n",
    "    file_dates.append(datetime_object.date())\n",
    "    \n",
    "    #filename = '/workspace/modis/lol' + '/' + 'modis_lst_10d_' + str(datetime_object.date()) + '.tif'\n",
    "    \n",
    "    print('Processing file {}'.format(filename))\n",
    "    \n",
    "    with mosaic.get_raster(dset, ix) as mosaic_ropen:\n",
    "        #try:\n",
    "        wopt = gdal.WarpOptions(dstSRS='EPSG:4326',\n",
    "                                    outputType=mosaic_ropen.dt_gdal[0],\n",
    "                                    xRes=mosaic_ropen.resolution_degrees,\n",
    "                                    yRes=mosaic_ropen.resolution_degrees,\n",
    "                                    srcNodata=mosaic.nodata,\n",
    "                                    dstNodata=mosaic.nodata,\n",
    "                                    resampleAlg='near',\n",
    "                                    multithread=True,\n",
    "                                    creationOptions=['COMPRESS=LZW', 'PREDICTOR=2'],)\n",
    "\n",
    "        _ = gdal.Warp(filename,\n",
    "                          mosaic_ropen.raster,\n",
    "                          options=wopt)\n",
    "\n",
    "        _ = None\n",
    "        #except Exception as e:\n",
    "        #    print('erro')\n",
    "            #print('Error while reading {} data for {}! Please check if dataset exits within file. \\n\\n Error message:\\n\\n {}'.format(args.dataset, filename, e))\n",
    "    \n",
    "    del mosaic_ropen\n",
    "    \n",
    "    \n",
    "\n",
    "    \n",
    "\n",
    "filenames\n"
   ]
  },
  {
   "cell_type": "markdown",
   "metadata": {},
   "source": [
    "#### write properties files"
   ]
  },
  {
   "cell_type": "code",
   "execution_count": 42,
   "metadata": {},
   "outputs": [
    {
     "name": "stdout",
     "output_type": "stream",
     "text": [
      "2015-01-05\n",
      "2015-01-15\n",
      "2015-01-25\n",
      "2015-02-04\n"
     ]
    }
   ],
   "source": [
    "\n",
    "for output_name,file_date in zip(filenames,file_dates):\n",
    "    \n",
    "    print(file_date)\n",
    "    \n",
    "    # all world\n",
    "    region_of_interest = 'POLYGON((-179.9999 89.9999, 179.9999 89.9999, 179.9999 -89.9999, -179.9999 -89.9999, -179.9999 89.9999))'\n",
    "    \n",
    "    write_properties_file(output_name, file_date, file_date, region_of_interest)"
   ]
  },
  {
   "cell_type": "markdown",
   "metadata": {},
   "source": [
    "#### Remove temporay files and folders"
   ]
  },
  {
   "cell_type": "code",
   "execution_count": null,
   "metadata": {},
   "outputs": [],
   "source": [
    "rm_cfolder(temp_folder)\n",
    "\n",
    "os.rmdir(temp_folder)"
   ]
  },
  {
   "cell_type": "markdown",
   "metadata": {},
   "source": [
    "#### Check a tif file"
   ]
  },
  {
   "cell_type": "code",
   "execution_count": 13,
   "metadata": {},
   "outputs": [
    {
     "data": {
      "text/plain": [
       "\"\\nimport georasters\\n\\n# Load data\\n#raster = output_folder + '/regtdt201602d1.tif'\\nraster = 'modis_lst_10d_2015-01-05.tif'\\ndata = georasters.from_file(raster)\\n\\n# Plot data\\ndata.plot()\\n\""
      ]
     },
     "execution_count": 13,
     "metadata": {},
     "output_type": "execute_result"
    }
   ],
   "source": [
    "'''\n",
    "import georasters\n",
    "\n",
    "# Load data\n",
    "#raster = output_folder + '/regtdt201602d1.tif'\n",
    "raster = 'modis_lst_10d_2015-01-05.tif'\n",
    "data = georasters.from_file(raster)\n",
    "\n",
    "# Plot data\n",
    "data.plot()\n",
    "'''"
   ]
  },
  {
   "cell_type": "code",
   "execution_count": null,
   "metadata": {},
   "outputs": [],
   "source": []
  }
 ],
 "metadata": {
  "kernelspec": {
   "display_name": "vacc-env2",
   "language": "python",
   "name": "vacc-env2"
  },
  "language_info": {
   "codemirror_mode": {
    "name": "ipython",
    "version": 2
   },
   "file_extension": ".py",
   "mimetype": "text/x-python",
   "name": "python",
   "nbconvert_exporter": "python",
   "pygments_lexer": "ipython2",
   "version": "2.7.15"
  }
 },
 "nbformat": 4,
 "nbformat_minor": 2
}
