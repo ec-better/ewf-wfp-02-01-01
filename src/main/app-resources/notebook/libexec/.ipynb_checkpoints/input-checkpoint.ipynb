{
 "cells": [
  {
   "cell_type": "markdown",
   "metadata": {
    "slideshow": {
     "slide_type": "skip"
    }
   },
   "source": [
    "## ewf-wfp-02-01-01 - Smoothed Gap-Filled Land Surface Temperature Time Series"
   ]
  },
  {
   "cell_type": "markdown",
   "metadata": {},
   "source": [
    "Smoothed Gap-Filled Land Surface Temperature Time Series"
   ]
  },
  {
   "cell_type": "markdown",
   "metadata": {},
   "source": [
    "---"
   ]
  },
  {
   "cell_type": "markdown",
   "metadata": {},
   "source": [
    "### <a name=\"service\">Service definition"
   ]
  },
  {
   "cell_type": "code",
   "execution_count": 191,
   "metadata": {
    "collapsed": true
   },
   "outputs": [],
   "source": [
    "# TO CHANGE\n",
    "service = dict([('title', 'Smoothed Gap-Filled Land Surface Temperature Time Series'),\n",
    "                ('abstract', 'Smoothed Gap-Filled Land Surface Temperature Time Series'),\n",
    "                ('id', 'ewf-wfp-02-01-01')])"
   ]
  },
  {
   "cell_type": "markdown",
   "metadata": {},
   "source": [
    "### <a name=\"parameter\">Parameter Definition "
   ]
  },
  {
   "cell_type": "code",
   "execution_count": 192,
   "metadata": {},
   "outputs": [],
   "source": [
    "year = dict([('id', 'year'),\n",
    "                ('value', 2015),\n",
    "                ('title', 'year'),\n",
    "                ('abstract', 'year')])"
   ]
  },
  {
   "cell_type": "markdown",
   "metadata": {},
   "source": [
    "### <a name=\"runtime\">Runtime parameter definition"
   ]
  },
  {
   "cell_type": "markdown",
   "metadata": {},
   "source": [
    "**Input identifiers**\n",
    "\n",
    "This is the MDOIS stack of products' identifiers"
   ]
  },
  {
   "cell_type": "code",
   "execution_count": 193,
   "metadata": {
    "collapsed": true
   },
   "outputs": [],
   "source": [
    "# 2015\n",
    "input_identifiers = ('MOD11C2.A2015001.006.2016223171153', 'MOD11C2.A2015009.006.2016223171154', 'MOD11C2.A2015017.006.2016223171154', 'MOD11C2.A2015025.006.2016223171154', 'MOD11C2.A2015033.006.2016223171154')\n",
    "\n",
    "# 2016\n",
    "#input_identifiers = ('MOD11C2.A2016001.006.2016234032340', 'MOD11C2.A2016009.006.2016234032341', 'MOD11C2.A2016017.006.2016234032342', 'MOD11C2.A2016025.006.2016234032341', 'MOD11C2.A2016033.006.2016235185021')\n",
    "\n",
    "# 2017\n",
    "#input_identifiers = ( 'MOD11C2.A2017001.006.2017013160908', 'MOD11C2.A2017009.006.2017020191355', 'MOD11C2.A2017017.006.2017025093208', 'MOD11C2.A2017025.006.2017033125003', 'MOD11C2.A2017033.006.2017041092627')\n",
    "\n",
    "## 2018\n",
    "#input_identifiers = ( 'MOD11C2.A2018001.006.2018011143504', 'MOD11C2.A2018009.006.2018017084533', 'MOD11C2.A2018017.006.2018025152434', 'MOD11C2.A2018025.006.2018033090239', 'MOD11C2.A2018033.006.2018041083108')\n"
   ]
  },
  {
   "cell_type": "markdown",
   "metadata": {},
   "source": [
    "**Input references**\n",
    "\n",
    "This is the MODIS stack catalogue references"
   ]
  },
  {
   "cell_type": "code",
   "execution_count": 194,
   "metadata": {
    "collapsed": false,
    "slideshow": {
     "slide_type": "subslide"
    }
   },
   "outputs": [],
   "source": [
    "input_references = ('https://catalog.terradue.com/modis/search?uid=MOD11C2.A2017001.006.2017013160908', 'https://catalog.terradue.com/modis/search?uid=MOD11C2.A2017009.006.2017020191355', 'https://catalog.terradue.com/modis/search?uid=MOD11C2.A2017017.006.2017025093208') "
   ]
  },
  {
   "cell_type": "markdown",
   "metadata": {
    "slideshow": {
     "slide_type": "slide"
    }
   },
   "source": [
    "**Data path**\n",
    "\n",
    "This path defines where the data is staged-in. "
   ]
  },
  {
   "cell_type": "code",
   "execution_count": 195,
   "metadata": {
    "collapsed": true
   },
   "outputs": [],
   "source": [
    "data_path = \"/workspace/data/modis\""
   ]
  },
  {
   "cell_type": "code",
   "execution_count": 196,
   "metadata": {},
   "outputs": [],
   "source": [
    "output_folder = '/workspace/modis/outputs/output01'"
   ]
  },
  {
   "cell_type": "code",
   "execution_count": 197,
   "metadata": {},
   "outputs": [],
   "source": [
    "temp_folder = '/workspace/modis/temp'"
   ]
  },
  {
   "cell_type": "markdown",
   "metadata": {},
   "source": [
    "#### Import Modules"
   ]
  },
  {
   "cell_type": "code",
   "execution_count": 198,
   "metadata": {},
   "outputs": [],
   "source": [
    "import os\n",
    "import shutil\n",
    "import datetime\n",
    "try:\n",
    "    import gdal\n",
    "except ImportError:\n",
    "    from osgeo import gdal\n",
    "import glob\n",
    "# whittaker engine\n",
    "import modape\n",
    "from modape.modis import ModisRawH5, ModisSmoothH5, ModisMosaic"
   ]
  },
  {
   "cell_type": "markdown",
   "metadata": {},
   "source": [
    "#### Auxiliary methods"
   ]
  },
  {
   "cell_type": "code",
   "execution_count": 199,
   "metadata": {},
   "outputs": [],
   "source": [
    "# remove contents of a given folder\n",
    "# used to clean a temporary folder\n",
    "def rm_cfolder(folder):\n",
    "    #folder = '/path/to/folder'\n",
    "    for the_file in os.listdir(folder):\n",
    "        file_path = os.path.join(folder, the_file)\n",
    "        try:\n",
    "            if os.path.isfile(file_path):\n",
    "                os.unlink(file_path)\n",
    "            elif os.path.isdir(file_path): shutil.rmtree(file_path)\n",
    "        except Exception as e:\n",
    "            print(e)"
   ]
  },
  {
   "cell_type": "markdown",
   "metadata": {},
   "source": [
    "#### Collect raw MODIS data into HDF5 file"
   ]
  },
  {
   "cell_type": "code",
   "execution_count": 200,
   "metadata": {},
   "outputs": [],
   "source": [
    "\n",
    "modis_abs_paths = [data_path + '/' + in_id + '.hdf' for in_id in input_identifiers]\n",
    "\n",
    "\n",
    "try:\n",
    "    rh5 = ModisRawH5(modis_abs_paths,\n",
    "                     vam_product_code='LTD',\n",
    "                     targetdir=temp_folder,\n",
    "                     interleave=False)\n",
    "    if not rh5.exists:\n",
    "        rh5.create(compression='gzip',\n",
    "                   chunk=None)\n",
    "    rh5.update()\n",
    "    \n",
    "except Exception as e: # pylint: disable=unused-variable\n",
    "    #print('\\nError processing product {}, product code {}. \\n\\n Traceback:\\n'.format(rh5.product, vam_product_code))\n",
    "    print('something went wrong!!')\n",
    "    pass\n"
   ]
  },
  {
   "cell_type": "code",
   "execution_count": 201,
   "metadata": {},
   "outputs": [
    {
     "data": {
      "text/plain": [
       "['MOD11C2.006.TDT.h5']"
      ]
     },
     "execution_count": 201,
     "metadata": {},
     "output_type": "execute_result"
    }
   ],
   "source": [
    "# checks file name\n",
    "os.listdir(temp_folder + '/LTD')"
   ]
  },
  {
   "cell_type": "markdown",
   "metadata": {},
   "source": [
    "#### Smooth raw MODIS HDF5 file"
   ]
  },
  {
   "cell_type": "code",
   "execution_count": 202,
   "metadata": {},
   "outputs": [],
   "source": [
    "h5file = temp_folder + '/LTD' + '/' + os.listdir(temp_folder + '/LTD')[0]\n",
    "\n",
    "#h5 = '/workspace/data/modis/rawh5/LTD/MOD11C2.006.TDT.h5'\n",
    "\n",
    "#if not os.path.isfile(h5):\n",
    "#    print('Raw HDF5 {} not found! Please check path.'.format(h5))\n",
    "    \n",
    "\n",
    "#smt_h5 = ModisSmoothH5(rawfile=h5,\n",
    "#                       startdate=args.startdate,\n",
    "#                       tempint=args.tempint,\n",
    "#                       nsmooth=args.nsmooth,\n",
    "#                       nupdate=args.nupdate,\n",
    "#                       targetdir=args.targetdir,\n",
    "#                       nworkers=args.nworkers)\n",
    "\n",
    "smt_h5 = ModisSmoothH5(rawfile=h5file,\n",
    "                       #startdate='2017001', # Startdate for temporal interpolation (format YYYY-MM-DD or YYYYJJJ)\n",
    "                       tempint=10,\n",
    "                       targetdir=temp_folder,\n",
    "                       nworkers=2)\n",
    "\n",
    "if not smt_h5.exists:\n",
    "    smt_h5.create()\n",
    "\n",
    "smt_h5.ws2d_sgrid()"
   ]
  },
  {
   "cell_type": "markdown",
   "metadata": {},
   "source": [
    "#### Convert HDF5 to TIFF"
   ]
  },
  {
   "cell_type": "code",
   "execution_count": 203,
   "metadata": {},
   "outputs": [
    {
     "data": {
      "text/plain": [
       "\"\\nmodis_window_cmd = '/home/vacc/.conda/envs/vacc-env2/bin/modis_window'\\n\\nsmoothh5_folder = temp_folder\\ntiff_folder = output_folder\\n\\nmodis_window_command = '{0} {1} -d {2}'.format(modis_window_cmd, smoothh5_folder, tiff_folder)\\nprint(modis_window_command)\\nos.system(modis_window_command)\\n\""
      ]
     },
     "execution_count": 203,
     "metadata": {},
     "output_type": "execute_result"
    }
   ],
   "source": [
    "# NAO EXECUTAR\n",
    "'''\n",
    "modis_window_cmd = '/home/vacc/.conda/envs/vacc-env2/bin/modis_window'\n",
    "\n",
    "smoothh5_folder = temp_folder\n",
    "tiff_folder = output_folder\n",
    "\n",
    "modis_window_command = '{0} {1} -d {2}'.format(modis_window_cmd, smoothh5_folder, tiff_folder)\n",
    "print(modis_window_command)\n",
    "os.system(modis_window_command)\n",
    "'''"
   ]
  },
  {
   "cell_type": "code",
   "execution_count": 204,
   "metadata": {},
   "outputs": [
    {
     "name": "stdout",
     "output_type": "stream",
     "text": [
      "Processing file /workspace/modis/outputs/output01/modis_lst_10d_2015-01-05.tif\n",
      "Processing file /workspace/modis/outputs/output01/modis_lst_10d_2015-01-15.tif\n",
      "Processing file /workspace/modis/outputs/output01/modis_lst_10d_2015-01-25.tif\n",
      "Processing file /workspace/modis/outputs/output01/modis_lst_10d_2015-02-04.tif\n"
     ]
    }
   ],
   "source": [
    "\n",
    "h5_filepath = glob.glob(temp_folder + '/' + '*.TDT.h5')[0]\n",
    "    \n",
    "\n",
    "\n",
    "with h5py.File(h5_filepath, 'r') as h5f:\n",
    "    dset = h5f.get('data')\n",
    "    dates = h5f.get('dates')\n",
    "    dim = dset.shape\n",
    "    startdate = dates[0].decode()\n",
    "    enddate = dates[-1].decode()\n",
    "    temporalresolution = dset.attrs['temporalresolution']\n",
    "    resolution = dset.attrs['resolution']\n",
    "    nodata_value = dset.attrs['nodata']\n",
    "    processing_timestamp = dset.attrs['processingtimestamp']\n",
    "    ncols = dset.attrs['RasterXSize'].item()\n",
    "    nrows = dset.attrs['RasterYSize'].item()\n",
    "\n",
    "\n",
    "\n",
    "h5files_select_vpc = [h5_filepath]\n",
    "\n",
    "mosaic = ModisMosaic(files=h5files_select_vpc,\n",
    "                     datemin=datetime.date(2000, 1, 1).strftime('%Y%m'),\n",
    "                     datemax=datetime.date.today().strftime('%Y%m'),\n",
    "                     global_flag=True)\n",
    "dset = 'data'\n",
    "\n",
    "\n",
    "for ix in mosaic.temp_index:\n",
    "    \n",
    "    datetime_object =  datetime.datetime.strptime(str(int(startdate) + 10*ix), '%Y%j')\n",
    "    \n",
    "    filename = output_folder + '/' + 'modis_lst_10d_' + str(datetime_object.date()) + '.tif'\n",
    "    \n",
    "    #filename = '/workspace/modis/lol' + '/' + 'modis_lst_10d_' + str(datetime_object.date()) + '.tif'\n",
    "    \n",
    "    print('Processing file {}'.format(filename))\n",
    "    \n",
    "    with mosaic.get_raster(dset, ix) as mosaic_ropen:\n",
    "        #try:\n",
    "        wopt = gdal.WarpOptions(dstSRS='EPSG:4326',\n",
    "                                    outputType=mosaic_ropen.dt_gdal[0],\n",
    "                                    xRes=mosaic_ropen.resolution_degrees,\n",
    "                                    yRes=mosaic_ropen.resolution_degrees,\n",
    "                                    srcNodata=mosaic.nodata,\n",
    "                                    dstNodata=mosaic.nodata,\n",
    "                                    resampleAlg='near',\n",
    "                                    multithread=True,\n",
    "                                    creationOptions=['COMPRESS=LZW', 'PREDICTOR=2'],)\n",
    "\n",
    "        _ = gdal.Warp(filename,\n",
    "                          mosaic_ropen.raster,\n",
    "                          options=wopt)\n",
    "\n",
    "        _ = None\n",
    "        #except Exception as e:\n",
    "        #    print('erro')\n",
    "            #print('Error while reading {} data for {}! Please check if dataset exits within file. \\n\\n Error message:\\n\\n {}'.format(args.dataset, filename, e))\n",
    "    \n",
    "    del mosaic_ropen\n",
    "    \n",
    "\n",
    "\n"
   ]
  },
  {
   "cell_type": "code",
   "execution_count": 206,
   "metadata": {},
   "outputs": [
    {
     "data": {
      "text/plain": [
       "\"\\nimport h5py\\nfrom datetime import datetime\\nimport glob\\n\\n\\nwith h5py.File(smoothh5_folder + '/' + 'MOD11C2.006.txd.TDT.h5', 'r') as h5f:\\n    dset = h5f.get('data')\\n    dates = h5f.get('dates')\\n    dim = dset.shape\\n    startdate = dates[0].decode()\\n    enddate = dates[-1].decode()\\n    temporalresolution = dset.attrs['temporalresolution']\\n    resolution = dset.attrs['resolution']\\n    nodata_value = dset.attrs['nodata']\\n    processing_timestamp = dset.attrs['processingtimestamp']\\n    ncols = dset.attrs['RasterXSize'].item()\\n    nrows = dset.attrs['RasterYSize'].item()\\n    \\nprint(startdate)\\nprint(enddate)\\n\\ndatetime_object = datetime.strptime('Jun 1 2005  1:33PM', '%b %d %Y %I:%M%p')\\n\\ndatetime_object = datetime.strptime(str(int(startdate) + 10*3), '%Y%j')\\n\\n#print(datetime_object)\\n\\n\\nint(temporalresolution)\\ndim[1]\\n\\n\\nn_images = dim[1]\\ntemporalres = int(temporalresolution)\\n\\nfor i in range(n_images):\\n    print i\\n    datetime_object = datetime.strptime(str(int(startdate) + 10*i), '%Y%j')\\n    print(datetime_object.date())\\n\\nstr_year = str(datetime_object.year)\\nprint(str_year)\\nfor fo,i in zip(sorted(glob.glob(tiff_folder + '/*' +str_year+ '??d[0-9].tif')), range(n_images)):\\n    \\n    datetime_object =  datetime.strptime(str(int(startdate) + 10*i), '%Y%j')\\n    \\n    n_name = tiff_folder + '/' + 'modis_lst_10d_' + str(datetime_object.date()) + '.tif'\\n    \\n    print([fo, n_name])\\n    \\n    #os.rename(fo, n_name)\\n    \\n\""
      ]
     },
     "execution_count": 206,
     "metadata": {},
     "output_type": "execute_result"
    }
   ],
   "source": [
    "'''\n",
    "import h5py\n",
    "from datetime import datetime\n",
    "import glob\n",
    "\n",
    "\n",
    "with h5py.File(smoothh5_folder + '/' + 'MOD11C2.006.txd.TDT.h5', 'r') as h5f:\n",
    "    dset = h5f.get('data')\n",
    "    dates = h5f.get('dates')\n",
    "    dim = dset.shape\n",
    "    startdate = dates[0].decode()\n",
    "    enddate = dates[-1].decode()\n",
    "    temporalresolution = dset.attrs['temporalresolution']\n",
    "    resolution = dset.attrs['resolution']\n",
    "    nodata_value = dset.attrs['nodata']\n",
    "    processing_timestamp = dset.attrs['processingtimestamp']\n",
    "    ncols = dset.attrs['RasterXSize'].item()\n",
    "    nrows = dset.attrs['RasterYSize'].item()\n",
    "    \n",
    "print(startdate)\n",
    "print(enddate)\n",
    "\n",
    "datetime_object = datetime.strptime('Jun 1 2005  1:33PM', '%b %d %Y %I:%M%p')\n",
    "\n",
    "datetime_object = datetime.strptime(str(int(startdate) + 10*3), '%Y%j')\n",
    "\n",
    "#print(datetime_object)\n",
    "\n",
    "\n",
    "int(temporalresolution)\n",
    "dim[1]\n",
    "\n",
    "\n",
    "n_images = dim[1]\n",
    "temporalres = int(temporalresolution)\n",
    "\n",
    "for i in range(n_images):\n",
    "    print i\n",
    "    datetime_object = datetime.strptime(str(int(startdate) + 10*i), '%Y%j')\n",
    "    print(datetime_object.date())\n",
    "\n",
    "str_year = str(datetime_object.year)\n",
    "print(str_year)\n",
    "for fo,i in zip(sorted(glob.glob(tiff_folder + '/*' +str_year+ '??d[0-9].tif')), range(n_images)):\n",
    "    \n",
    "    datetime_object =  datetime.strptime(str(int(startdate) + 10*i), '%Y%j')\n",
    "    \n",
    "    n_name = tiff_folder + '/' + 'modis_lst_10d_' + str(datetime_object.date()) + '.tif'\n",
    "    \n",
    "    print([fo, n_name])\n",
    "    \n",
    "    #os.rename(fo, n_name)\n",
    "    \n",
    "'''"
   ]
  },
  {
   "cell_type": "markdown",
   "metadata": {},
   "source": [
    "#### Remove temporay files"
   ]
  },
  {
   "cell_type": "code",
   "execution_count": 189,
   "metadata": {},
   "outputs": [],
   "source": [
    "rm_cfolder(temp_folder)"
   ]
  },
  {
   "cell_type": "markdown",
   "metadata": {},
   "source": [
    "#### Check a tif file"
   ]
  },
  {
   "cell_type": "code",
   "execution_count": 168,
   "metadata": {},
   "outputs": [
    {
     "data": {
      "text/plain": [
       "<matplotlib.axes._subplots.AxesSubplot at 0x7f5350345810>"
      ]
     },
     "execution_count": 168,
     "metadata": {},
     "output_type": "execute_result"
    },
    {
     "data": {
      "image/png": "[encoded data removed]",
      "text/plain": [
       "<Figure size 432x288 with 1 Axes>"
      ]
     },
     "metadata": {
      "needs_background": "light"
     },
     "output_type": "display_data"
    }
   ],
   "source": [
    "import georasters\n",
    "\n",
    "# Load data\n",
    "#raster = output_folder + '/regtdt201602d1.tif'\n",
    "raster = n_name\n",
    "data = georasters.from_file(raster)\n",
    "\n",
    "# Plot data\n",
    "data.plot()"
   ]
  },
  {
   "cell_type": "code",
   "execution_count": null,
   "metadata": {},
   "outputs": [],
   "source": []
  }
 ],
 "metadata": {
  "kernelspec": {
   "display_name": "vacc-env2",
   "language": "python",
   "name": "vacc-env2"
  },
  "language_info": {
   "codemirror_mode": {
    "name": "ipython",
    "version": 2
   },
   "file_extension": ".py",
   "mimetype": "text/x-python",
   "name": "python",
   "nbconvert_exporter": "python",
   "pygments_lexer": "ipython2",
   "version": "2.7.15"
  }
 },
 "nbformat": 4,
 "nbformat_minor": 2
}
